{
 "cells": [
  {
   "cell_type": "markdown",
   "metadata": {},
   "source": [
    "# Pregled funkcionalnosti joculara"
   ]
  },
  {
   "cell_type": "markdown",
   "metadata": {},
   "source": [
    "## Prvi korak: funkcionalnosti koje asistent radi\n",
    "\n",
    "Asistent moze napraviti pitanje u obliku objekta"
   ]
  },
  {
   "cell_type": "code",
   "execution_count": 1,
   "metadata": {
    "collapsed": false,
    "jupyter": {
     "outputs_hidden": false
    },
    "pycharm": {
     "name": "#%%\n"
    }
   },
   "outputs": [],
   "source": [
    "from cloze.cloze_question import ClozeQuestion\n",
    "from cloze.cloze import ExportType\n",
    "\n",
    "assitant_q = ClozeQuestion(\"Koliko je {} + {}? Koristite formulu: \\( x^n + y^n = z^n \\) \")"
   ]
  },
  {
   "cell_type": "markdown",
   "metadata": {
    "collapsed": false,
    "jupyter": {
     "outputs_hidden": false
    },
    "pycharm": {
     "name": "#%%\n"
    }
   },
   "source": [
    "Nakon toga moze napraviti render i export pitanja.\n",
    "\n",
    "Metode imaju razumne _default_ opcije, a parametriziranjem se mogu postici dodatne funkcionalnosti."
   ]
  },
  {
   "cell_type": "code",
   "execution_count": 2,
   "metadata": {
    "collapsed": false,
    "jupyter": {
     "outputs_hidden": false
    },
    "pycharm": {
     "name": "#%%\n"
    }
   },
   "outputs": [
    {
     "data": {
      "text/html": [
       "\n",
       "<p><em>Pitanje: </em> Koliko je {} + {}? Koristite formulu: \\( x^n + y^n = z^n \\)  </p>\n"
      ],
      "text/plain": [
       "<IPython.core.display.HTML object>"
      ]
     },
     "execution_count": 2,
     "metadata": {},
     "output_type": "execute_result"
    }
   ],
   "source": [
    "assitant_q.render()"
   ]
  },
  {
   "cell_type": "code",
   "execution_count": 3,
   "metadata": {
    "collapsed": false,
    "jupyter": {
     "outputs_hidden": false
    },
    "pycharm": {
     "name": "#%%\n"
    }
   },
   "outputs": [
    {
     "data": {
      "application/json": {
       "py/object": "cloze.cloze_question.ClozeQuestion",
       "question_text": "Koliko je {} + {}? Koristite formulu: \\( x^n + y^n = z^n \\) ",
       "responses": []
      },
      "text/plain": [
       "<IPython.core.display.JSON object>"
      ]
     },
     "execution_count": 3,
     "metadata": {
      "application/json": {
       "expanded": false,
       "root": "root"
      }
     },
     "output_type": "execute_result"
    }
   ],
   "source": [
    "assitant_q.export()"
   ]
  },
  {
   "cell_type": "code",
   "execution_count": 15,
   "metadata": {
    "collapsed": false,
    "jupyter": {
     "outputs_hidden": false
    },
    "pycharm": {
     "name": "#%%\n"
    }
   },
   "outputs": [
    {
     "name": "stdout",
     "output_type": "stream",
     "text": [
      "{\"py/object\": \"cloze.cloze_question.ClozeQuestion\", \"question_text\": \"Koliko je {} + {}? Koristite formulu: \\\\( x^n + y^n = z^n \\\\) \", \"responses\": []}\n",
      "<class 'str'>\n"
     ]
    }
   ],
   "source": [
    "export = assitant_q.export(ExportType.JSON)\n",
    "print(export)\n",
    "print(type(export))"
   ]
  },
  {
   "cell_type": "code",
   "execution_count": 5,
   "metadata": {
    "collapsed": false,
    "jupyter": {
     "outputs_hidden": false
    },
    "pycharm": {
     "name": "#%%\n"
    }
   },
   "outputs": [
    {
     "name": "stdout",
     "output_type": "stream",
     "text": [
      "{\"py/object\": \"cloze.cloze_question.ClozeQuestion\", \"question_text\": \"Koliko je {} + {}? Koristite formulu: \\\\( x^n + y^n = z^n \\\\) \", \"responses\": []}\n"
     ]
    }
   ],
   "source": [
    "assitant_q.export(ExportType.PRINT)"
   ]
  },
  {
   "cell_type": "markdown",
   "metadata": {
    "collapsed": false,
    "jupyter": {
     "outputs_hidden": false
    },
    "pycharm": {
     "name": "#%%\n"
    }
   },
   "source": [
    "## Drugi korak: funkcionalnost za profesora\n",
    "\n",
    "Export iz prethodnog koraka profesor moze iskoristiti za import.\n",
    "\n",
    "Prednosti ovog exporta: \n",
    " - distribucija kroz nositelje plain text formata, npr mail\n",
    " - moze se lako zapisati u bazu pa pristupati preko nekog API-ja\n",
    " - moze se citati jer je format dovoljno jednostavan da se vidi sadrzaj"
   ]
  },
  {
   "cell_type": "code",
   "execution_count": 6,
   "metadata": {
    "collapsed": false,
    "jupyter": {
     "outputs_hidden": false
    },
    "pycharm": {
     "name": "#%%\n"
    }
   },
   "outputs": [],
   "source": [
    "from cloze.cloze import Cloze"
   ]
  },
  {
   "cell_type": "markdown",
   "metadata": {
    "collapsed": false,
    "jupyter": {
     "outputs_hidden": false
    },
    "pycharm": {
     "name": "#%%\n"
    }
   },
   "source": [
    "Ovde se radi import. Ovdje je cilj pokazati da su `assistant_q` i `new_question` identicni objekti, a mogli su se jednostavno prenijeti kroz neke vanjske medije.\n",
    "\n",
    "Naravno, ako se izmjenjuje jupyter notebook file, onda se moze i iskoristiti i stari objekt bez exporta pa importa."
   ]
  },
  {
   "cell_type": "code",
   "execution_count": 7,
   "metadata": {
    "collapsed": false,
    "jupyter": {
     "outputs_hidden": false
    },
    "pycharm": {
     "name": "#%%\n"
    }
   },
   "outputs": [
    {
     "data": {
      "text/html": [
       "\n",
       "<p><em>Pitanje: </em> Koliko je {} + {}? Koristite formulu: \\( x^n + y^n = z^n \\)  </p>\n"
      ],
      "text/plain": [
       "<IPython.core.display.HTML object>"
      ]
     },
     "execution_count": 7,
     "metadata": {},
     "output_type": "execute_result"
    }
   ],
   "source": [
    "new_question = Cloze.import_question(export)\n",
    "new_question.render()"
   ]
  },
  {
   "cell_type": "markdown",
   "metadata": {
    "collapsed": false,
    "jupyter": {
     "outputs_hidden": false
    },
    "pycharm": {
     "name": "#%%\n"
    }
   },
   "source": [
    "Popunjavanje pitanja vrijednostima..."
   ]
  },
  {
   "cell_type": "code",
   "execution_count": 8,
   "metadata": {
    "collapsed": false,
    "jupyter": {
     "outputs_hidden": false
    },
    "pycharm": {
     "name": "#%%\n"
    }
   },
   "outputs": [
    {
     "data": {
      "text/html": [
       "\n",
       "<p><em>Pitanje: </em> Koliko je 5 + 2? Koristite formulu: \\( x^n + y^n = z^n \\)  </p>\n"
      ],
      "text/plain": [
       "<IPython.core.display.HTML object>"
      ]
     },
     "execution_count": 8,
     "metadata": {},
     "output_type": "execute_result"
    }
   ],
   "source": [
    "new_question.fill_question_parameters(5, 2)\n",
    "new_question.render()"
   ]
  },
  {
   "cell_type": "markdown",
   "metadata": {
    "collapsed": false,
    "jupyter": {
     "outputs_hidden": false
    },
    "pycharm": {
     "name": "#%%\n"
    }
   },
   "source": [
    "Iz ovoga profesor moze nastaviti dalje sa svojim radom. \n",
    "\n",
    "Profesor koristi metode `add_response` i `add_possible_answer` da popuni pitanje odgovorima."
   ]
  },
  {
   "cell_type": "code",
   "execution_count": 9,
   "metadata": {
    "collapsed": false,
    "jupyter": {
     "outputs_hidden": false
    },
    "pycharm": {
     "name": "#%%\n"
    }
   },
   "outputs": [],
   "source": [
    "from cloze.cloze_question import ClozeAnswer, Numerical\n",
    "r = Numerical(10, question_type=\"NUMERICAL\")\n",
    "for x in range(5):\n",
    "    ponder = 0\n",
    "    feedback = \"Wrong\"\n",
    "    is_correct = False\n",
    "    if x == 3:\n",
    "        ponder = 1\n",
    "        feedback = \"Correct\"\n",
    "        is_correct = True\n",
    "    ans = ClozeAnswer(answer_text=str(x+4), ponder=ponder, feedback=feedback, is_correct=is_correct)\n",
    "    r.add_possible_answer(ans)\n",
    "\n",
    "new_question.add_response(r)"
   ]
  },
  {
   "cell_type": "markdown",
   "metadata": {
    "collapsed": false,
    "jupyter": {
     "outputs_hidden": false
    },
    "pycharm": {
     "name": "#%%\n"
    }
   },
   "source": [
    "Export i dalje normalno funkcionira, samo sto je sad znacajno bolje popunjen podatcima"
   ]
  },
  {
   "cell_type": "code",
   "execution_count": 10,
   "metadata": {
    "collapsed": false,
    "jupyter": {
     "outputs_hidden": false
    },
    "pycharm": {
     "name": "#%%\n"
    }
   },
   "outputs": [
    {
     "data": {
      "application/json": {
       "py/object": "cloze.cloze_question.ClozeQuestion",
       "question_text": "Koliko je 5 + 2? Koristite formulu: \\( x^n + y^n = z^n \\) ",
       "responses": [
        {
         "points_worth": 10,
         "possible_answers": [
          {
           "answer_text": "4",
           "feedback": "Wrong",
           "is_correct": false,
           "ponder": 0,
           "py/object": "cloze.cloze_question.ClozeAnswer",
           "tolerance": null
          },
          {
           "answer_text": "5",
           "feedback": "Wrong",
           "is_correct": false,
           "ponder": 0,
           "py/object": "cloze.cloze_question.ClozeAnswer",
           "tolerance": null
          },
          {
           "answer_text": "6",
           "feedback": "Wrong",
           "is_correct": false,
           "ponder": 0,
           "py/object": "cloze.cloze_question.ClozeAnswer",
           "tolerance": null
          },
          {
           "answer_text": "7",
           "feedback": "Correct",
           "is_correct": true,
           "ponder": 1,
           "py/object": "cloze.cloze_question.ClozeAnswer",
           "tolerance": null
          },
          {
           "answer_text": "8",
           "feedback": "Wrong",
           "is_correct": false,
           "ponder": 0,
           "py/object": "cloze.cloze_question.ClozeAnswer",
           "tolerance": null
          }
         ],
         "py/object": "cloze.cloze_question.Numerical",
         "question_type": "NUMERICAL"
        }
       ]
      },
      "text/plain": [
       "<IPython.core.display.JSON object>"
      ]
     },
     "execution_count": 10,
     "metadata": {
      "application/json": {
       "expanded": false,
       "root": "root"
      }
     },
     "output_type": "execute_result"
    }
   ],
   "source": [
    "new_question.export()"
   ]
  },
  {
   "cell_type": "code",
   "execution_count": 11,
   "metadata": {},
   "outputs": [
    {
     "data": {
      "text/html": [
       "\n",
       "<p><em>Pitanje: </em> Koliko je 5 + 2? Koristite formulu: \\( x^n + y^n = z^n \\)  </p>\n",
       "\n",
       "    <em>Odgovori</em><br>\n",
       "    <ul>\n",
       "        <li> \\( 4 + y \\)  (Wrong) </li>        \n",
       "        <li> \\( 5 + y \\)  (Wrong) </li>        \n",
       "        <li> \\( 6 + y \\)  (Wrong) </li>        \n",
       "        <li> <b>  \\( 7 + y \\)  (Correct)  </b> </li>        \n",
       "        <li> \\( 8 + y \\)  (Wrong) </li>        \n",
       "        </ul><br>\n",
       "    \n"
      ],
      "text/plain": [
       "<IPython.core.display.HTML object>"
      ]
     },
     "execution_count": 11,
     "metadata": {},
     "output_type": "execute_result"
    }
   ],
   "source": [
    "new_question.render()"
   ]
  },
  {
   "cell_type": "code",
   "execution_count": 12,
   "metadata": {},
   "outputs": [
    {
     "data": {
      "text/plain": [
       "'{10:NUMERICAL:~4:None#Wrong~5:None#Wrong~6:None#Wrong~=%100%7:None#Correct~8:None#Wrong}'"
      ]
     },
     "execution_count": 12,
     "metadata": {},
     "output_type": "execute_result"
    }
   ],
   "source": [
    "new_question.export_cloze_question()"
   ]
  }
 ],
 "metadata": {
  "kernelspec": {
   "display_name": "Python 3 (ipykernel)",
   "language": "python",
   "name": "python3"
  },
  "language_info": {
   "codemirror_mode": {
    "name": "ipython",
    "version": 3
   },
   "file_extension": ".py",
   "mimetype": "text/x-python",
   "name": "python",
   "nbconvert_exporter": "python",
   "pygments_lexer": "ipython3",
   "version": "3.11.3"
  }
 },
 "nbformat": 4,
 "nbformat_minor": 4
}
